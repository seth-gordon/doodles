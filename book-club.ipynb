{
 "cells": [
  {
   "cell_type": "markdown",
   "id": "french-episode",
   "metadata": {},
   "source": [
    "# The Book Club Algorithm"
   ]
  },
  {
   "cell_type": "markdown",
   "id": "pretty-donor",
   "metadata": {},
   "source": [
    "Over the years, I have joined several book clubs. They cover different genres of literature, have different membership demographics, and devote different proportions of each meeting to actually talking about books. But they have one thing in common: each group has to decide, collectively, what to choose for its _next_ book. Each club has evolved its own means for making that decision, be it a vote of the membership, a “rotating dictator,” a permanent moderator who has the last word following discussion, or some other means. Only a total nerd—someone obsessed with finding technical solutions to social problems—would even conceive of farming off this decision-making process to some new-fangled algorithm."
   ]
  },
  {
   "cell_type": "code",
   "execution_count": 1,
   "id": "comic-leather",
   "metadata": {},
   "outputs": [],
   "source": [
    "from collections import defaultdict\n",
    "import math\n",
    "import matplotlib.pyplot as plt"
   ]
  },
  {
   "cell_type": "markdown",
   "id": "specific-kingston",
   "metadata": {},
   "source": [
    "I will use Python `dict` objects to model a club’s answer to the “what is our next book?” question. First, I will create a `dict` representing the history of previous decisions, in which the keys are the names of club members, and the values represent how many times the club has chosen that member’s favored book."
   ]
  },
  {
   "cell_type": "code",
   "execution_count": 2,
   "id": "controversial-budapest",
   "metadata": {},
   "outputs": [],
   "source": [
    "history = {'alice': 5, 'bob': 3, 'carol': 2, 'dave': 1, 'edith': 0}"
   ]
  },
  {
   "cell_type": "markdown",
   "id": "turkish-rouge",
   "metadata": {},
   "source": [
    "Next, there is a two-level `dict` representing the members’ preferences for the next book. In this example, the club uses [approval voting](https://en.wikipedia.org/wiki/Approval_voting), in which each member can show support for multiple candidates. Other systems are of course possible, such as only permitting one vote per member, or allowing different numbers to express different strengths of preference."
   ]
  },
  {
   "cell_type": "code",
   "execution_count": 3,
   "id": "cathedral-invite",
   "metadata": {},
   "outputs": [
    {
     "data": {
      "text/plain": [
       "defaultdict(<function __main__.<lambda>()>,\n",
       "            {'the great gatsby': defaultdict(int,\n",
       "                         {'alice': 1, 'carol': 1, 'bob': 1}),\n",
       "             'native son': defaultdict(int, {'alice': 1, 'bob': 1}),\n",
       "             'the five love languages': defaultdict(int,\n",
       "                         {'dave': 1, 'carol': 1}),\n",
       "             'atlas shrugged': defaultdict(int, {'edith': 1})})"
      ]
     },
     "execution_count": 3,
     "metadata": {},
     "output_type": "execute_result"
    }
   ],
   "source": [
    "raw_votes = {\n",
    "    'the great gatsby': {'alice', 'bob', 'carol'},\n",
    "    'native son': {'alice', 'bob'},\n",
    "    'the five love languages': {'carol', 'dave'},\n",
    "    'atlas shrugged': {'edith'}\n",
    "}\n",
    "votes = defaultdict(lambda: defaultdict(int))\n",
    "for title, names in raw_votes.items():\n",
    "    for name in names:\n",
    "        votes[title][name] += 1\n",
    "votes"
   ]
  },
  {
   "cell_type": "markdown",
   "id": "specialized-picnic",
   "metadata": {},
   "source": [
    "We can treat each (top-level) value of `votes`, as well as `history`, as a vector in _N_-dimensional space, where _N_ is the number of club members. The vector, of course, has a magnitude, defined in the usual way."
   ]
  },
  {
   "cell_type": "code",
   "execution_count": 4,
   "id": "robust-liability",
   "metadata": {},
   "outputs": [],
   "source": [
    "def norm(vdict):\n",
    "    return math.sqrt(sum([v**2 for v in vdict.values()]))"
   ]
  },
  {
   "cell_type": "markdown",
   "id": "worldwide-intention",
   "metadata": {},
   "source": [
    "Each vote-vector makes a certain angle with the history-vector. If the angle is zero, then the preferences for that book are _exactly like_ the club’s historical preferences. If the two vector are at right angles, then the preferences for the book are _completely different from_ the history."
   ]
  },
  {
   "cell_type": "code",
   "execution_count": 5,
   "id": "sublime-evaluation",
   "metadata": {},
   "outputs": [],
   "source": [
    "def angle_with_history(vdict):\n",
    "    dot_product = 0\n",
    "    for name, vote in vdict.items():\n",
    "        dot_product += vote * history.get(name, 0)\n",
    "    similarity = dot_product / (norm(vdict) * norm(history))\n",
    "    return math.acos(similarity)"
   ]
  },
  {
   "cell_type": "markdown",
   "id": "immune-study",
   "metadata": {},
   "source": [
    "Now we can make a graph representing the club’s votes. Points farther from the origin represent books that have more votes. Points farther from the horizontal axis represents books favored by more members who, historically, did not get their way."
   ]
  },
  {
   "cell_type": "code",
   "execution_count": 6,
   "id": "received-heating",
   "metadata": {},
   "outputs": [
    {
     "data": {
      "image/png": "[encoded data removed]",
      "text/plain": [
       "<Figure size 432x288 with 1 Axes>"
      ]
     },
     "metadata": {
      "needs_background": "light"
     },
     "output_type": "display_data"
    }
   ],
   "source": [
    "fig = plt.figure()\n",
    "ax = fig.add_subplot(projection='polar')\n",
    "ax.set_thetalim(0, math.pi/2)\n",
    "ax.set_rlim(0, 2)\n",
    "ax.set_rticks([0, 1, math.sqrt(2), math.sqrt(3)], [])\n",
    "for name in votes.keys():\n",
    "    vote = votes[name]\n",
    "    ax.scatter(\n",
    "        [angle_with_history(vote)],\n",
    "        [norm(vote)],\n",
    "        label=name,\n",
    "        alpha=0.5\n",
    "    )\n",
    "ax.legend()\n",
    "plt.show()"
   ]
  },
  {
   "cell_type": "markdown",
   "id": "sudden-recommendation",
   "metadata": {},
   "source": [
    "We can adjust the magnitude of each vote-vector according to its angle, giving greater influence to the people who were losers in previous rounds of voting."
   ]
  },
  {
   "cell_type": "code",
   "execution_count": 7,
   "id": "vertical-clearance",
   "metadata": {},
   "outputs": [
    {
     "data": {
      "text/plain": [
       "[('the five love languages', 1.3301243435223524),\n",
       " ('atlas shrugged', 1.0),\n",
       " ('the great gatsby', 0.6602252917735243),\n",
       " ('native son', 0.5991446895152784)]"
      ]
     },
     "execution_count": 7,
     "metadata": {},
     "output_type": "execute_result"
    }
   ],
   "source": [
    "adjusted_votes = dict()\n",
    "for title, vote in votes.items():\n",
    "    magnitude = norm(vote)\n",
    "    scale_factor = math.sin(angle_with_history(vote))\n",
    "    adjusted_votes[title] = magnitude * scale_factor\n",
    "sorted(adjusted_votes.items(), key=lambda x: -x[1])"
   ]
  },
  {
   "cell_type": "markdown",
   "id": "permanent-climb",
   "metadata": {},
   "source": [
    "I confess that even when the book clubs I belong to have spent considerable time mulling over the question of “what book to read next,” nobody seems terribly interested in the _meta_-problem of “what procedure should we use to decide ‘what book to read next,’” so this algorithm probably will not interest them. In my own defense, I can only say that giving pedantic answers to questions nobody asked is my love language."
   ]
  },
  {
   "cell_type": "code",
   "execution_count": null,
   "id": "macro-sunglasses",
   "metadata": {},
   "outputs": [],
   "source": []
  }
 ],
 "metadata": {
  "kernelspec": {
   "display_name": "Python 3",
   "language": "python",
   "name": "python3"
  },
  "language_info": {
   "codemirror_mode": {
    "name": "ipython",
    "version": 3
   },
   "file_extension": ".py",
   "mimetype": "text/x-python",
   "name": "python",
   "nbconvert_exporter": "python",
   "pygments_lexer": "ipython3",
   "version": "3.9.1"
  }
 },
 "nbformat": 4,
 "nbformat_minor": 5
}
